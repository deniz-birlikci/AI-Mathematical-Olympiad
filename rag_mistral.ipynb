{
 "cells": [
  {
   "cell_type": "code",
   "execution_count": 1,
   "metadata": {},
   "outputs": [],
   "source": [
    "import random\n",
    "from format_data import get_data_SFTTrainer\n",
    "from rag import get_RAG_context\n",
    "# from trl import SFTTrainer, DataCollatorForCompletionOnlyLM\n",
    "from sklearn.feature_extraction.text import TfidfVectorizer\n"
   ]
  },
  {
   "cell_type": "markdown",
   "metadata": {},
   "source": [
    "**Data Handling**"
   ]
  },
  {
   "cell_type": "code",
   "execution_count": 2,
   "metadata": {},
   "outputs": [],
   "source": [
    "train_dataset = get_data_SFTTrainer('data/math/merged_math_problems_train_clean.json')\n",
    "random.shuffle(train_dataset)\n",
    "\n",
    "split = 0.8\n",
    "train_dataset = train_dataset[:int(split*len(train_dataset))]\n",
    "val_dataset = train_dataset[int(split*len(train_dataset)):]\n",
    "test_dataset = get_data_SFTTrainer('data/aime_clean.json')"
   ]
  },
  {
   "cell_type": "code",
   "execution_count": 4,
   "metadata": {},
   "outputs": [
    {
     "name": "stdout",
     "output_type": "stream",
     "text": [
      "975\n"
     ]
    }
   ],
   "source": [
    "train_dataset\n",
    "val_dataset\n",
    "test_dataset\n",
    "print(len(test_dataset))"
   ]
  },
  {
   "cell_type": "code",
   "execution_count": 4,
   "metadata": {},
   "outputs": [],
   "source": [
    "text_format = \"\"\"### prompt: {problem_statement} [completion]: {solution}\"\"\"\n",
    "\n",
    "# RAG support\n",
    "prompts = [example[\"prompt\"] for example in train_dataset] \n",
    "vectorizer = TfidfVectorizer()                       # Initialize TF-IDF vectorizer\n",
    "tfidf_matrix = vectorizer.fit_transform(prompts)     # Fit vectorizer on prompts\n",
    "RAG_params = {\n",
    "    \"train_data\": train_dataset,\n",
    "    \"vectorizer\": vectorizer,\n",
    "    \"tfidf_matrix\": tfidf_matrix,\n",
    "}\n",
    "TOP_K = 3\n",
    "\n",
    "def formatting_prompts_func(dataset):\n",
    "    output_texts = []\n",
    "    for question_dict in dataset:\n",
    "        problem, solution = question_dict[\"prompt\"], question_dict[\"completion\"]\n",
    "        text = text_format.format(problem_statement=problem, solution=solution)\n",
    "\n",
    "        # get RAG-supported context\n",
    "        context = get_RAG_context(question_dict, RAG_params, top_k=TOP_K)\n",
    "        output_texts.append(context+text)\n",
    "    return output_texts\n"
   ]
  },
  {
   "cell_type": "code",
   "execution_count": 5,
   "metadata": {},
   "outputs": [
    {
     "data": {
      "text/plain": [
       "[\"### prompt: We roll a fair 6-sided die 5 times.  What is the probability that we get an odd number in exactly 4 of the 5 rolls? [completion]: The chances of getting an odd or even number are equal, so there are $2^5=32$ equally likely outcomes.  If we want to get exactly 4 of 5 the rolls to be odd, the probability is $ LaTex dfrac{ LaTex binom{5}{4}}{2^5}= LaTex boxed{ LaTex dfrac{5}{32}}.$### prompt: Suppose we roll a standard fair 6-sided die.  What is the probability that a perfect square is rolled? [completion]: A 1 or 4 can be rolled for success, which is 2 out of 6 possible outcomes, so its probability is $ LaTex dfrac26 =  LaTex boxed{ LaTex dfrac13}$.### prompt: If I roll a fair, regular six-sided die four times, what is the probability that I will roll the number $1$ exactly three times? [completion]: Each roll is independent of every other roll, so the probability of getting a $1$ on any given roll is $ LaTex frac{1}{6}$, and the probability of not getting a $1$ on any given roll is $ LaTex frac{5}{6}$. Since we are looking for a $1$ rolled three times and a number not $1$ rolled once, we have $ LaTex left( LaTex frac{1}{6} LaTex right)^3  LaTex cdot  LaTex frac{5}{6}$. Now, we have to consider the order of the rolls. The number that is not a $1$ could be rolled on the first, second, third, or fourth roll, so we multiply by four. Hence, the probability of rolling $1$ exactly three times is $4  LaTex cdot  LaTex left( LaTex frac{1}{6} LaTex right)^3  LaTex cdot  LaTex frac{5}{6} =  LaTex boxed{ LaTex frac{5}{324}}$.### prompt: We roll a fair 6-sided die 5 times.  What is the probability that we get a 6 in at most 2 of the rolls? [completion]: The number of ways to roll exactly 2 6's is $ LaTex binom{5}{2}5^3$, since there are $ LaTex binom{5}{2}$ choices for which of the two dice are 6, and there are 5 choices for each of the other 3 dice. Similarly, the number of ways to roll exactly 1 6 is $ LaTex binom{5}{1}5^4$, and the number of ways to roll no 6's is $ LaTex binom{5}{0}5^5$. So the probability is  LaTex [ LaTex frac{ LaTex binom{5}{2}5^3+ LaTex binom{5}{1}5^4+ LaTex binom{5}{0}5^5}{6^5}= LaTex boxed{ LaTex frac{625}{648}}. LaTex ]\"]"
      ]
     },
     "execution_count": 5,
     "metadata": {},
     "output_type": "execute_result"
    }
   ],
   "source": [
    "formatting_prompts_func(test_dataset[:1])"
   ]
  },
  {
   "cell_type": "code",
   "execution_count": 6,
   "metadata": {},
   "outputs": [],
   "source": [
    "# response_template = \" [completion]: \"\n",
    "# collator = DataCollatorForCompletionOnlyLM(response_template, tokenizer=tokenizer)\n",
    "\n",
    "# trainer = SFTTrainer(\n",
    "#     model,\n",
    "#     train_dataset=train_dataset,\n",
    "#     formatting_func=formatting_prompts_func,\n",
    "#     data_collator=collator,\n",
    "# )"
   ]
  },
  {
   "cell_type": "code",
   "execution_count": 7,
   "metadata": {},
   "outputs": [],
   "source": [
    "# trainer.train()"
   ]
  }
 ],
 "metadata": {
  "kernelspec": {
   "display_name": "base",
   "language": "python",
   "name": "python3"
  },
  "language_info": {
   "codemirror_mode": {
    "name": "ipython",
    "version": 3
   },
   "file_extension": ".py",
   "mimetype": "text/x-python",
   "name": "python",
   "nbconvert_exporter": "python",
   "pygments_lexer": "ipython3",
   "version": "3.11.5"
  }
 },
 "nbformat": 4,
 "nbformat_minor": 2
}
